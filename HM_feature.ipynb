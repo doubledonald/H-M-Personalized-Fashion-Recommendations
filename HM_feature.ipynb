{
 "cells": [
  {
   "cell_type": "markdown",
   "metadata": {},
   "source": [
    "# LFM"
   ]
  },
  {
   "cell_type": "code",
   "execution_count": 1,
   "metadata": {},
   "outputs": [
    {
     "ename": "ModuleNotFoundError",
     "evalue": "No module named 'lightfm'",
     "output_type": "error",
     "traceback": [
      "\u001b[1;31m---------------------------------------------------------------------------\u001b[0m",
      "\u001b[1;31mModuleNotFoundError\u001b[0m                       Traceback (most recent call last)",
      "\u001b[1;32mc:\\Users\\zhaoyazheng0618\\Desktop\\智能商务\\期末大作业\\fina project\\HM_feature.ipynb 单元格 2\u001b[0m in \u001b[0;36m<cell line: 5>\u001b[1;34m()\u001b[0m\n\u001b[0;32m      <a href='vscode-notebook-cell:/c%3A/Users/zhaoyazheng0618/Desktop/%E6%99%BA%E8%83%BD%E5%95%86%E5%8A%A1/%E6%9C%9F%E6%9C%AB%E5%A4%A7%E4%BD%9C%E4%B8%9A/fina%20project/HM_feature.ipynb#W1sZmlsZQ%3D%3D?line=2'>3</a>\u001b[0m \u001b[39mfrom\u001b[39;00m \u001b[39mpathlib\u001b[39;00m \u001b[39mimport\u001b[39;00m Path\n\u001b[0;32m      <a href='vscode-notebook-cell:/c%3A/Users/zhaoyazheng0618/Desktop/%E6%99%BA%E8%83%BD%E5%95%86%E5%8A%A1/%E6%9C%9F%E6%9C%AB%E5%A4%A7%E4%BD%9C%E4%B8%9A/fina%20project/HM_feature.ipynb#W1sZmlsZQ%3D%3D?line=3'>4</a>\u001b[0m \u001b[39mimport\u001b[39;00m \u001b[39mpandas\u001b[39;00m \u001b[39mas\u001b[39;00m \u001b[39mpd\u001b[39;00m\n\u001b[1;32m----> <a href='vscode-notebook-cell:/c%3A/Users/zhaoyazheng0618/Desktop/%E6%99%BA%E8%83%BD%E5%95%86%E5%8A%A1/%E6%9C%9F%E6%9C%AB%E5%A4%A7%E4%BD%9C%E4%B8%9A/fina%20project/HM_feature.ipynb#W1sZmlsZQ%3D%3D?line=4'>5</a>\u001b[0m \u001b[39mfrom\u001b[39;00m \u001b[39mlightfm\u001b[39;00m \u001b[39mimport\u001b[39;00m LightFM \n\u001b[0;32m      <a href='vscode-notebook-cell:/c%3A/Users/zhaoyazheng0618/Desktop/%E6%99%BA%E8%83%BD%E5%95%86%E5%8A%A1/%E6%9C%9F%E6%9C%AB%E5%A4%A7%E4%BD%9C%E4%B8%9A/fina%20project/HM_feature.ipynb#W1sZmlsZQ%3D%3D?line=5'>6</a>\u001b[0m \u001b[39mfrom\u001b[39;00m \u001b[39mscipy\u001b[39;00m \u001b[39mimport\u001b[39;00m sparse\n\u001b[0;32m      <a href='vscode-notebook-cell:/c%3A/Users/zhaoyazheng0618/Desktop/%E6%99%BA%E8%83%BD%E5%95%86%E5%8A%A1/%E6%9C%9F%E6%9C%AB%E5%A4%A7%E4%BD%9C%E4%B8%9A/fina%20project/HM_feature.ipynb#W1sZmlsZQ%3D%3D?line=8'>9</a>\u001b[0m \u001b[39m# 指定lfm路径\u001b[39;00m\n",
      "\u001b[1;31mModuleNotFoundError\u001b[0m: No module named 'lightfm'"
     ]
    }
   ],
   "source": [
    "import os\n",
    "import pickle\n",
    "from pathlib import Path\n",
    "import pandas as pd\n",
    "from lightfm import LightFM \n",
    "from scipy import sparse\n",
    "\n",
    "\n",
    "# 指定lfm路径\n",
    "data_dir = './rawdata'\n",
    "os.makedirs(f\"{data_dir}/lfm\", exist_ok=True)\n",
    "\n",
    "LIGHTFM_PARAMS = {\n",
    "    'learning_schedule': 'adadelta',\n",
    "    'loss': 'bpr', \n",
    "    'learning_rate': 0.005, # 学习率 # 默认值 0.05\n",
    "    'random_state': 42, # 随机种子\n",
    "}\n",
    "\n",
    "EPOCHS = 100 # epoch数量\n",
    "\n",
    "def user_item(week: int, dim: int):\n",
    "    '''\n",
    "    user-item矩阵\n",
    "    '''\n",
    "    path_prefix = f\"{data_dir}/lfm/lfm_i_i_week{week}_dim{dim}\" # i2i保存路径\n",
    "    print(path_prefix) \n",
    "    transactions = pd.read_pickle(f\"{data_dir}/transactions_train.pkl\") # 读取transactions_train\n",
    "    users = pd.read_pickle(f\"{data_dir}/users.pkl\") # 读取users\n",
    "    items = pd.read_pickle(f\"{data_dir}/items.pkl\") # 读取items\n",
    "    n_user = len(users) # users 数量\n",
    "    n_item = len(items) # items 数量\n",
    "    a = transactions.query(\"@week <= week\")[['user', 'item']].drop_duplicates(ignore_index=True) # 交易表，只保留近n周 user-item对，并且去重\n",
    "    a_train = sparse.lil_matrix((n_user, n_item)) # 创建user-item矩阵\n",
    "    a_train[a['user'], a['item']] = 1 # 所有存在user-item对的默认值都是1\n",
    "\n",
    "    lightfm_params = LIGHTFM_PARAMS.copy() # 获取lightfm params\n",
    "    lightfm_params['no_components'] = dim # 加入参数 no_components = dim，隐向量的维度\n",
    "\n",
    "    model = LightFM(**lightfm_params) # 创建LightFM模型\n",
    "    model.fit(a_train, epochs=EPOCHS, num_threads=4, verbose=True) # 训练user-item矩阵\n",
    "    # 保存模型\n",
    "    save_path = f\"{path_prefix}_model.pkl\"\n",
    "    with open(save_path, 'wb') as f:\n",
    "        pickle.dump(model, f)\n",
    "\n",
    "        \n",
    "\n",
    "for week in range(1, 14):\n",
    "    user_item(week, 16)"
   ]
  },
  {
   "cell_type": "markdown",
   "metadata": {},
   "source": [
    "# user_features"
   ]
  },
  {
   "cell_type": "code",
   "execution_count": null,
   "metadata": {},
   "outputs": [],
   "source": [
    "import os\n",
    "from pathlib import Path\n",
    "import pandas as pd\n",
    "import vaex # 类似pandas的高性能库\n",
    "\n",
    "# 保存的路径\n",
    "data_dir = 'D:/Now'\n",
    "os.makedirs(f\"{data_dir}/user_features\", exist_ok=True)\n",
    "\n",
    "def create_user_ohe_agg(week):\n",
    "    '''\n",
    "    对各个item属性特征做onehot编码, 并入交易表, 然后groupby每个user, 并且在交易样本中agg平均\n",
    "    '''\n",
    "    transactions = pd.read_pickle(f'{data_dir}/transactions_train.pkl')[['user', 'item', 'week']] # 读取 transactions_train.pkl\n",
    "    users = pd.read_pickle(f'{data_dir}/users.pkl') # 读取 users.pkl\n",
    "    items = pd.read_pickle(f'{data_dir}/items.pkl') # 读取 items.pkl\n",
    "\n",
    "    tr = vaex.from_pandas(transactions.query(\"week >= @week\")[['user', 'item']]) # 行:只保留第n周前, 列:user-item对\n",
    "\n",
    "    target_columns = [c for c in items.columns if c.endswith('_idx')] # items 标签编码列\n",
    "    for c in target_columns:\n",
    "        tmp = tr.join(vaex.from_pandas(pd.get_dummies(items[['item', c]], columns=[c])), on='item') # 加入item表所有列的onehot编码\n",
    "        tmp = tmp.drop(columns='item') # 删掉item id列\n",
    "\n",
    "        tmp = tmp.groupby('user').agg(['mean']) # groupby user\n",
    "\n",
    "        users = vaex.from_pandas(users[['user']]).join(tmp, on='user', how='left').to_pandas_df() # user表 left join tr(groupby user agg mean)\n",
    "        # 除了user id列以外，所有列改为agg列\n",
    "        users = users.rename(columns={\n",
    "            c: f'user_ohe_agg_{c}' for c in users.columns if c != 'user'\n",
    "        })\n",
    "\n",
    "        users = users.sort_values(by='user').reset_index(drop=True) # 根据user id排序\n",
    "\n",
    "        save_path = f'{data_dir}/user_features/user_ohe_agg_week{week}_{c}.pkl' # 保存路径\n",
    "        users.to_pickle(save_path) # 保存user agg数据\n",
    "        print(\"saved\", save_path)\n",
    "\n",
    "\n",
    "# 创建不同条件的user agg数据\n",
    "for week in range(14):\n",
    "    create_user_ohe_agg(week)\n"
   ]
  },
  {
   "cell_type": "code",
   "execution_count": null,
   "metadata": {},
   "outputs": [],
   "source": []
  }
 ],
 "metadata": {
  "kernelspec": {
   "display_name": "tjxt",
   "language": "python",
   "name": "python3"
  },
  "language_info": {
   "codemirror_mode": {
    "name": "ipython",
    "version": 3
   },
   "file_extension": ".py",
   "mimetype": "text/x-python",
   "name": "python",
   "nbconvert_exporter": "python",
   "pygments_lexer": "ipython3",
   "version": "3.8.16"
  }
 },
 "nbformat": 4,
 "nbformat_minor": 2
}
