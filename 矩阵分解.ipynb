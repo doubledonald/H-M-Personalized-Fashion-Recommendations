{
 "cells": [
  {
   "cell_type": "code",
   "execution_count": 1,
   "metadata": {
    "execution": {
     "iopub.execute_input": "2023-06-04T10:21:34.801259Z",
     "iopub.status.busy": "2023-06-04T10:21:34.800092Z",
     "iopub.status.idle": "2023-06-04T10:21:36.428459Z",
     "shell.execute_reply": "2023-06-04T10:21:36.427351Z",
     "shell.execute_reply.started": "2023-06-04T10:21:34.801215Z"
    },
    "id": "LG2bo9CkMyoB",
    "scrolled": true
   },
   "outputs": [],
   "source": [
    "import pandas as pd\n",
    "import numpy as np\n",
    "from IPython.display import display\n",
    "import matplotlib.pyplot as plt\n",
    "\n",
    "import seaborn as sns\n",
    "sns.set()\n",
    "from pandas.io.json import json_normalize\n",
    "from pprint import pprint\n",
    "from pathlib import Path\n",
    "from tqdm import tqdm\n",
    "tqdm.pandas()\n",
    "\n",
    "from pyspark.ml.evaluation import RegressionEvaluator\n",
    "from pyspark.ml.recommendation import ALS\n",
    "from pyspark.sql import Row\n",
    "import warnings\n",
    "warnings.filterwarnings(\"ignore\")"
   ]
  },
  {
   "cell_type": "code",
   "execution_count": 4,
   "metadata": {
    "execution": {
     "iopub.execute_input": "2023-06-04T10:21:59.252046Z",
     "iopub.status.busy": "2023-06-04T10:21:59.251450Z",
     "iopub.status.idle": "2023-06-04T10:22:44.221795Z",
     "shell.execute_reply": "2023-06-04T10:22:44.220843Z",
     "shell.execute_reply.started": "2023-06-04T10:21:59.252004Z"
    },
    "id": "WmyRZDvNMcHg",
    "scrolled": true
   },
   "outputs": [],
   "source": [
    "transactions = pd.read_csv('./data/rawdata/transactions_train.csv', dtype={'article_id': str})\n",
    "transactions['t_dat'] = pd.to_datetime(transactions['t_dat'])\n",
    "#transactions.set_index('t_dat', inplace=True)\n"
   ]
  },
  {
   "cell_type": "code",
   "execution_count": 3,
   "metadata": {
    "execution": {
     "iopub.execute_input": "2023-06-04T10:21:52.086720Z",
     "iopub.status.busy": "2023-06-04T10:21:52.085968Z",
     "iopub.status.idle": "2023-06-04T10:21:56.551431Z",
     "shell.execute_reply": "2023-06-04T10:21:56.550149Z",
     "shell.execute_reply.started": "2023-06-04T10:21:52.086663Z"
    },
    "id": "jDprQuf_Efpr",
    "scrolled": true,
    "tags": []
   },
   "outputs": [],
   "source": [
    "customers = pd.read_csv('./data/rawdata/customers.csv')\n",
    "articles = pd.read_csv('./data/rawdata/articles.csv', dtype={'article_id': str})"
   ]
  },
  {
   "cell_type": "markdown",
   "metadata": {
    "id": "MxBbui4-TQsn"
   },
   "source": [
    "# Implicit"
   ]
  },
  {
   "cell_type": "code",
   "execution_count": 5,
   "metadata": {
    "execution": {
     "iopub.execute_input": "2023-06-04T10:22:48.800844Z",
     "iopub.status.busy": "2023-06-04T10:22:48.799488Z",
     "iopub.status.idle": "2023-06-04T10:22:49.092847Z",
     "shell.execute_reply": "2023-06-04T10:22:49.091846Z",
     "shell.execute_reply.started": "2023-06-04T10:22:48.800791Z"
    },
    "id": "CdFwAQOaTdGP",
    "scrolled": true
   },
   "outputs": [],
   "source": [
    "transsept = transactions[transactions['t_dat']>='2020-09-01']"
   ]
  },
  {
   "cell_type": "code",
   "execution_count": 6,
   "metadata": {
    "colab": {
     "base_uri": "https://localhost:8080/"
    },
    "execution": {
     "iopub.execute_input": "2023-06-04T10:22:54.838776Z",
     "iopub.status.busy": "2023-06-04T10:22:54.837431Z",
     "iopub.status.idle": "2023-06-04T10:23:00.126347Z",
     "shell.execute_reply": "2023-06-04T10:23:00.125289Z",
     "shell.execute_reply.started": "2023-06-04T10:22:54.838736Z"
    },
    "id": "_TPAhC4FTZbC",
    "outputId": "66330c20-8b16-4d2c-8143-a26377c31aea",
    "scrolled": true
   },
   "outputs": [],
   "source": [
    "#将数据集中的用户ID和物品ID映射为数字索引\n",
    "\n",
    "ALL_USERS = customers['customer_id'].unique().tolist()\n",
    "ALL_ITEMS = articles['article_id'].unique().tolist()\n",
    "#使用enumerate函数将列表中的元素与其对应的数字索引组成字典\n",
    "user_ids = dict(list(enumerate(ALL_USERS)))\n",
    "item_ids = dict(list(enumerate(ALL_ITEMS)))\n",
    "\n",
    "user_map = {u: uidx for uidx, u in user_ids.items()}\n",
    "item_map = {i: iidx for iidx, i in item_ids.items()}\n",
    "#使用map函数将原始数据集中的customer_id和article_id列映射为数字索引\n",
    "transsept['user_id'] = transsept['customer_id'].map(user_map)\n",
    "transsept['item_id'] = transsept['article_id'].map(item_map)"
   ]
  },
  {
   "cell_type": "code",
   "execution_count": 7,
   "metadata": {
    "execution": {
     "iopub.execute_input": "2023-06-04T10:23:26.837623Z",
     "iopub.status.busy": "2023-06-04T10:23:26.837004Z",
     "iopub.status.idle": "2023-06-04T10:23:26.853460Z",
     "shell.execute_reply": "2023-06-04T10:23:26.852777Z",
     "shell.execute_reply.started": "2023-06-04T10:23:26.837580Z"
    },
    "scrolled": true
   },
   "outputs": [
    {
     "data": {
      "text/html": [
       "<div>\n",
       "<style scoped>\n",
       "    .dataframe tbody tr th:only-of-type {\n",
       "        vertical-align: middle;\n",
       "    }\n",
       "\n",
       "    .dataframe tbody tr th {\n",
       "        vertical-align: top;\n",
       "    }\n",
       "\n",
       "    .dataframe thead th {\n",
       "        text-align: right;\n",
       "    }\n",
       "</style>\n",
       "<table border=\"1\" class=\"dataframe\">\n",
       "  <thead>\n",
       "    <tr style=\"text-align: right;\">\n",
       "      <th></th>\n",
       "      <th>t_dat</th>\n",
       "      <th>customer_id</th>\n",
       "      <th>article_id</th>\n",
       "      <th>price</th>\n",
       "      <th>sales_channel_id</th>\n",
       "      <th>user_id</th>\n",
       "      <th>item_id</th>\n",
       "    </tr>\n",
       "  </thead>\n",
       "  <tbody>\n",
       "    <tr>\n",
       "      <th>30990055</th>\n",
       "      <td>2020-09-01</td>\n",
       "      <td>0001d44dbe7f6c4b35200abdb052c77a87596fe1bdcc37...</td>\n",
       "      <td>0777148006</td>\n",
       "      <td>0.013542</td>\n",
       "      <td>1</td>\n",
       "      <td>38</td>\n",
       "      <td>74547</td>\n",
       "    </tr>\n",
       "    <tr>\n",
       "      <th>30990056</th>\n",
       "      <td>2020-09-01</td>\n",
       "      <td>0001d44dbe7f6c4b35200abdb052c77a87596fe1bdcc37...</td>\n",
       "      <td>0835801001</td>\n",
       "      <td>0.018627</td>\n",
       "      <td>1</td>\n",
       "      <td>38</td>\n",
       "      <td>89049</td>\n",
       "    </tr>\n",
       "    <tr>\n",
       "      <th>30990057</th>\n",
       "      <td>2020-09-01</td>\n",
       "      <td>0001d44dbe7f6c4b35200abdb052c77a87596fe1bdcc37...</td>\n",
       "      <td>0923134005</td>\n",
       "      <td>0.012695</td>\n",
       "      <td>1</td>\n",
       "      <td>38</td>\n",
       "      <td>104450</td>\n",
       "    </tr>\n",
       "    <tr>\n",
       "      <th>30990058</th>\n",
       "      <td>2020-09-01</td>\n",
       "      <td>0001d44dbe7f6c4b35200abdb052c77a87596fe1bdcc37...</td>\n",
       "      <td>0865929003</td>\n",
       "      <td>0.016932</td>\n",
       "      <td>1</td>\n",
       "      <td>38</td>\n",
       "      <td>95251</td>\n",
       "    </tr>\n",
       "    <tr>\n",
       "      <th>30990059</th>\n",
       "      <td>2020-09-01</td>\n",
       "      <td>0005ed68483efa39644c45185550a82dd09acb07622acb...</td>\n",
       "      <td>0863646004</td>\n",
       "      <td>0.033881</td>\n",
       "      <td>1</td>\n",
       "      <td>143</td>\n",
       "      <td>94699</td>\n",
       "    </tr>\n",
       "  </tbody>\n",
       "</table>\n",
       "</div>"
      ],
      "text/plain": [
       "              t_dat                                        customer_id  \\\n",
       "30990055 2020-09-01  0001d44dbe7f6c4b35200abdb052c77a87596fe1bdcc37...   \n",
       "30990056 2020-09-01  0001d44dbe7f6c4b35200abdb052c77a87596fe1bdcc37...   \n",
       "30990057 2020-09-01  0001d44dbe7f6c4b35200abdb052c77a87596fe1bdcc37...   \n",
       "30990058 2020-09-01  0001d44dbe7f6c4b35200abdb052c77a87596fe1bdcc37...   \n",
       "30990059 2020-09-01  0005ed68483efa39644c45185550a82dd09acb07622acb...   \n",
       "\n",
       "          article_id     price  sales_channel_id  user_id  item_id  \n",
       "30990055  0777148006  0.013542                 1       38    74547  \n",
       "30990056  0835801001  0.018627                 1       38    89049  \n",
       "30990057  0923134005  0.012695                 1       38   104450  \n",
       "30990058  0865929003  0.016932                 1       38    95251  \n",
       "30990059  0863646004  0.033881                 1      143    94699  "
      ]
     },
     "execution_count": 7,
     "metadata": {},
     "output_type": "execute_result"
    }
   ],
   "source": [
    "transsept.head()"
   ]
  },
  {
   "cell_type": "code",
   "execution_count": 8,
   "metadata": {
    "colab": {
     "base_uri": "https://localhost:8080/"
    },
    "execution": {
     "iopub.execute_input": "2023-06-04T10:23:57.064109Z",
     "iopub.status.busy": "2023-06-04T10:23:57.063472Z",
     "iopub.status.idle": "2023-06-04T10:23:57.142740Z",
     "shell.execute_reply": "2023-06-04T10:23:57.141949Z",
     "shell.execute_reply.started": "2023-06-04T10:23:57.064062Z"
    },
    "id": "5kfwxjcVTTZi",
    "outputId": "cdfef834-3b8e-40e9-d37d-c207ca031b3b",
    "scrolled": true
   },
   "outputs": [
    {
     "data": {
      "text/plain": [
       "<1371980x105542 sparse matrix of type '<class 'numpy.float64'>'\n",
       "\twith 798269 stored elements in COOrdinate format>"
      ]
     },
     "execution_count": 8,
     "metadata": {},
     "output_type": "execute_result"
    }
   ],
   "source": [
    "import implicit\n",
    "from scipy.sparse import coo_matrix\n",
    "from implicit.evaluation import mean_average_precision_at_k\n",
    "\n",
    "row = transsept['user_id'].values\n",
    "col = transsept['item_id'].values\n",
    "data = np.ones(transsept.shape[0])\n",
    "coo_train = coo_matrix((data, (row, col)), shape=(len(ALL_USERS), len(ALL_ITEMS)))\n",
    "coo_train"
   ]
  },
  {
   "cell_type": "code",
   "execution_count": null,
   "metadata": {
    "execution": {
     "iopub.execute_input": "2023-06-04T10:25:04.466868Z",
     "iopub.status.busy": "2023-06-04T10:25:04.465517Z",
     "iopub.status.idle": "2023-06-04T10:25:04.471365Z",
     "shell.execute_reply": "2023-06-04T10:25:04.470642Z",
     "shell.execute_reply.started": "2023-06-04T10:25:04.466822Z"
    },
    "scrolled": true
   },
   "outputs": [],
   "source": [
    "print(coo_train)"
   ]
  },
  {
   "cell_type": "code",
   "execution_count": 15,
   "metadata": {
    "colab": {
     "base_uri": "https://localhost:8080/",
     "height": 139,
     "referenced_widgets": [
      "4fb1762f38f74348b61204b508cbb126",
      "767125b57d4e4efd93d5855e1b51b50d",
      "710cebbe524a4671a0f9b37300ab90d2",
      "32c41ba91d4e49ec91b1d29aa7a7b5f8",
      "33c78f09b450478389c4978c46467e91",
      "5e04f878b37b44a39471ddafa8bc70ea",
      "36bf07ad97ba4402a90b51c234a10e63",
      "02c2fa8c74ce48cdae87c9b995fc263c",
      "7f935abad9b241b6ad28892c1c004b6d",
      "3170622ac24844498d3eca78324b4fa8",
      "48e4d3a768594d258a3151c1ceb984c5"
     ]
    },
    "execution": {
     "iopub.execute_input": "2023-06-04T10:25:21.486941Z",
     "iopub.status.busy": "2023-06-04T10:25:21.485856Z",
     "iopub.status.idle": "2023-06-04T10:25:22.188110Z",
     "shell.execute_reply": "2023-06-04T10:25:22.187061Z",
     "shell.execute_reply.started": "2023-06-04T10:25:21.486893Z"
    },
    "id": "B_Dbz37RUnRU",
    "outputId": "3849a09a-ad87-4059-84bb-771ec642f3df",
    "scrolled": true
   },
   "outputs": [
    {
     "data": {
      "application/vnd.jupyter.widget-view+json": {
       "model_id": "1d85428977cf4d87973f6dbc005a66b7",
       "version_major": 2,
       "version_minor": 0
      },
      "text/plain": [
       "  0%|          | 0/2 [00:00<?, ?it/s]"
      ]
     },
     "metadata": {},
     "output_type": "display_data"
    },
    {
     "name": "stdout",
     "output_type": "stream",
     "text": [
      "CPU times: user 397 ms, sys: 284 ms, total: 681 ms\r\n",
      "Wall time: 696 ms\r\n"
     ]
    }
   ],
   "source": [
    "%%time\n",
    "#使用交替最小二乘法（Alternating Least Squares）算法来训练一个推荐模型\n",
    "\n",
    "model = implicit.als.AlternatingLeastSquares(factors=10, iterations=2)\n",
    "model.fit(coo_train)"
   ]
  },
  {
   "cell_type": "code",
   "execution_count": 16,
   "metadata": {
    "execution": {
     "iopub.execute_input": "2023-06-04T10:25:28.967784Z",
     "iopub.status.busy": "2023-06-04T10:25:28.967344Z",
     "iopub.status.idle": "2023-06-04T10:25:29.136573Z",
     "shell.execute_reply": "2023-06-04T10:25:29.135467Z",
     "shell.execute_reply.started": "2023-06-04T10:25:28.967749Z"
    },
    "id": "d0go9zyrU4XD",
    "scrolled": true
   },
   "outputs": [],
   "source": [
    "#将一个包含交易信息的数据框转换成一个COO稀疏矩阵\n",
    "def to_user_item_coo(df):\n",
    "  \n",
    "    row = df['user_id'].values\n",
    "    col = df['item_id'].values\n",
    "    data = np.ones(df.shape[0])\n",
    "    coo = coo_matrix((data, (row, col)), shape=(len(ALL_USERS), len(ALL_ITEMS)))\n",
    "    return coo\n",
    "\n",
    "#按照时间点划分验证集与测试集\n",
    "def split_data(df, validation_days=7):\n",
    "   \n",
    "    validation_cut = '2020-09-16'\n",
    "\n",
    "    df_train = df[df['t_dat'] < validation_cut]\n",
    "    df_val = df[df['t_dat'] >= validation_cut]\n",
    "    return df_train, df_val\n",
    "\n",
    "def get_val_matrices(df, validation_days=7):\n",
    "    \n",
    "    df_train, df_val = split_data(df, validation_days=validation_days)\n",
    "    coo_train = to_user_item_coo(df_train)\n",
    "    coo_val = to_user_item_coo(df_val)\n",
    "\n",
    "    csr_train = coo_train.tocsr() #将一个稀疏矩阵转换为压缩稀疏行矩阵\n",
    "    csr_val = coo_val.tocsr()\n",
    "    \n",
    "    return {'coo_train': coo_train,\n",
    "            'csr_train': csr_train,\n",
    "            'csr_val': csr_val\n",
    "          }\n",
    "\n",
    "\n",
    "def validate(matrices, factors=200, iterations=20, regularization=0.01, show_progress=True):\n",
    "    \n",
    "    coo_train, csr_train, csr_val = matrices['coo_train'], matrices['csr_train'], matrices['csr_val']\n",
    "    \n",
    "    model = implicit.als.AlternatingLeastSquares(factors=factors, \n",
    "                                                 iterations=iterations, \n",
    "                                                 regularization=regularization, \n",
    "                                                 random_state=42)\n",
    "    model.fit(coo_train, show_progress=show_progress)\n",
    "    \n",
    "    map12 = mean_average_precision_at_k(model, csr_train, csr_val, K=12, show_progress=show_progress, num_threads=4)\n",
    "    print(f\"Factors: {factors:>3} - Iterations: {iterations:>2} - Regularization: {regularization:4.3f} ==> MAP@12: {map12:6.5f}\")\n",
    "    return map12"
   ]
  },
  {
   "cell_type": "code",
   "execution_count": 17,
   "metadata": {
    "execution": {
     "iopub.execute_input": "2023-06-04T10:25:34.048509Z",
     "iopub.status.busy": "2023-06-04T10:25:34.047886Z",
     "iopub.status.idle": "2023-06-04T10:25:34.208292Z",
     "shell.execute_reply": "2023-06-04T10:25:34.207227Z",
     "shell.execute_reply.started": "2023-06-04T10:25:34.048463Z"
    },
    "id": "kY2QhwGDVFI1",
    "scrolled": true
   },
   "outputs": [],
   "source": [
    "matrices = get_val_matrices(transsept)"
   ]
  },
  {
   "cell_type": "code",
   "execution_count": 19,
   "metadata": {
    "execution": {
     "iopub.execute_input": "2023-06-04T10:25:57.898535Z",
     "iopub.status.busy": "2023-06-04T10:25:57.897889Z",
     "iopub.status.idle": "2023-06-04T10:25:57.904145Z",
     "shell.execute_reply": "2023-06-04T10:25:57.903350Z",
     "shell.execute_reply.started": "2023-06-04T10:25:57.898488Z"
    },
    "scrolled": true
   },
   "outputs": [
    {
     "data": {
      "text/plain": [
       "{'coo_train': <1371980x105542 sparse matrix of type '<class 'numpy.float64'>'\n",
       " \twith 557958 stored elements in COOrdinate format>,\n",
       " 'csr_train': <1371980x105542 sparse matrix of type '<class 'numpy.float64'>'\n",
       " \twith 496094 stored elements in Compressed Sparse Row format>,\n",
       " 'csr_val': <1371980x105542 sparse matrix of type '<class 'numpy.float64'>'\n",
       " \twith 213728 stored elements in Compressed Sparse Row format>}"
      ]
     },
     "execution_count": 19,
     "metadata": {},
     "output_type": "execute_result"
    }
   ],
   "source": [
    "matrices"
   ]
  },
  {
   "cell_type": "code",
   "execution_count": 20,
   "metadata": {
    "colab": {
     "base_uri": "https://localhost:8080/"
    },
    "execution": {
     "iopub.execute_input": "2023-06-04T10:26:07.815179Z",
     "iopub.status.busy": "2023-06-04T10:26:07.813845Z",
     "iopub.status.idle": "2023-06-04T10:26:21.675466Z",
     "shell.execute_reply": "2023-06-04T10:26:21.674629Z",
     "shell.execute_reply.started": "2023-06-04T10:26:07.815127Z"
    },
    "id": "8msy-GIdU6mI",
    "outputId": "8d0a93bf-64f7-4681-e663-e202e1c7bc39",
    "scrolled": true
   },
   "outputs": [
    {
     "name": "stdout",
     "output_type": "stream",
     "text": [
      "Factors: 100 - Iterations:  3 - Regularization: 0.010 ==> MAP@12: 0.00334\r\n",
      "Best MAP@12 found. Updating: {'factors': 100, 'iterations': 3, 'regularization': 0.01}\r\n",
      "Factors: 100 - Iterations: 12 - Regularization: 0.010 ==> MAP@12: 0.00398\r\n",
      "Best MAP@12 found. Updating: {'factors': 100, 'iterations': 12, 'regularization': 0.01}\r\n",
      "Factors: 100 - Iterations: 14 - Regularization: 0.010 ==> MAP@12: 0.00399\r\n",
      "Best MAP@12 found. Updating: {'factors': 100, 'iterations': 14, 'regularization': 0.01}\r\n",
      "Factors: 100 - Iterations: 15 - Regularization: 0.010 ==> MAP@12: 0.00401\r\n",
      "Best MAP@12 found. Updating: {'factors': 100, 'iterations': 15, 'regularization': 0.01}\r\n",
      "Factors: 100 - Iterations: 20 - Regularization: 0.010 ==> MAP@12: 0.00400\r\n",
      "Factors: 150 - Iterations:  3 - Regularization: 0.010 ==> MAP@12: 0.00353\r\n",
      "Factors: 150 - Iterations: 12 - Regularization: 0.010 ==> MAP@12: 0.00391\r\n",
      "Factors: 150 - Iterations: 14 - Regularization: 0.010 ==> MAP@12: 0.00390\r\n",
      "Factors: 150 - Iterations: 15 - Regularization: 0.010 ==> MAP@12: 0.00390\r\n",
      "Factors: 150 - Iterations: 20 - Regularization: 0.010 ==> MAP@12: 0.00387\r\n",
      "Factors: 200 - Iterations:  3 - Regularization: 0.010 ==> MAP@12: 0.00365\r\n",
      "Factors: 200 - Iterations: 12 - Regularization: 0.010 ==> MAP@12: 0.00378\r\n",
      "Factors: 200 - Iterations: 14 - Regularization: 0.010 ==> MAP@12: 0.00380\r\n",
      "Factors: 200 - Iterations: 15 - Regularization: 0.010 ==> MAP@12: 0.00379\r\n",
      "Factors: 200 - Iterations: 20 - Regularization: 0.010 ==> MAP@12: 0.00376\r\n",
      "CPU times: user 10.2 s, sys: 3.65 s, total: 13.8 s\r\n",
      "Wall time: 13.9 s\r\n"
     ]
    }
   ],
   "source": [
    "%%time\n",
    "#寻找最优参数\n",
    "best_map12 = 0\n",
    "for factors in [100, 150 ,200]:\n",
    "    for iterations in [3, 12, 14, 15, 20]:\n",
    "        for regularization in [0.01]:\n",
    "            map12 = validate(matrices, factors, iterations, regularization, show_progress=False)\n",
    "            if map12 > best_map12:\n",
    "                best_map12 = map12\n",
    "                best_params = {'factors': factors, 'iterations': iterations, 'regularization': regularization}\n",
    "                print(f\"Best MAP@12 found. Updating: {best_params}\")"
   ]
  },
  {
   "cell_type": "code",
   "execution_count": 21,
   "metadata": {
    "execution": {
     "iopub.execute_input": "2023-06-04T10:26:25.002198Z",
     "iopub.status.busy": "2023-06-04T10:26:25.001586Z",
     "iopub.status.idle": "2023-06-04T10:26:25.054148Z",
     "shell.execute_reply": "2023-06-04T10:26:25.053122Z",
     "shell.execute_reply.started": "2023-06-04T10:26:25.002156Z"
    },
    "id": "uvtM8To7VM8v",
    "scrolled": true
   },
   "outputs": [],
   "source": [
    "coo_train = to_user_item_coo(transsept)\n",
    "csr_train = coo_train.tocsr()"
   ]
  },
  {
   "cell_type": "code",
   "execution_count": 22,
   "metadata": {
    "execution": {
     "iopub.execute_input": "2023-06-04T10:26:30.224649Z",
     "iopub.status.busy": "2023-06-04T10:26:30.223936Z",
     "iopub.status.idle": "2023-06-04T10:26:30.230608Z",
     "shell.execute_reply": "2023-06-04T10:26:30.229430Z",
     "shell.execute_reply.started": "2023-06-04T10:26:30.224608Z"
    },
    "id": "SNVmatrSVVPZ",
    "scrolled": true
   },
   "outputs": [],
   "source": [
    "def train(coo_train, factors=100, iterations=12, regularization=0.01, show_progress=True):\n",
    "    model = implicit.als.AlternatingLeastSquares(factors=factors, \n",
    "                                                 iterations=iterations, \n",
    "                                                 regularization=regularization, \n",
    "                                                 random_state=42)\n",
    "    model.fit(coo_train, show_progress=show_progress)\n",
    "    return model"
   ]
  },
  {
   "cell_type": "code",
   "execution_count": 23,
   "metadata": {
    "colab": {
     "base_uri": "https://localhost:8080/",
     "height": 49,
     "referenced_widgets": [
      "cec04b32eabd412399a2bb8aa2f3d305",
      "e9500c8bbad242e7b8ae73bdfa776289",
      "21ba10ec33684c2a8d55324e43627677",
      "0b03196e153a41dc9118c4b3268d264d",
      "fc4e97ee89ff4e44871be67646989396",
      "1e34af4a58594ae1b2923a48e7d70c9d",
      "6edc757e91ad465e93b165e65f82b4b4",
      "de240caf8e0947c1bf6a2e02ee3d8d37",
      "2d7456c24b204b18826df826efe28431",
      "aeba41f00f6d47039ce86fc48526623d",
      "1340ee2db4e94791bcc658edab8d69a3"
     ]
    },
    "execution": {
     "iopub.execute_input": "2023-06-04T10:26:32.453118Z",
     "iopub.status.busy": "2023-06-04T10:26:32.452507Z",
     "iopub.status.idle": "2023-06-04T10:26:32.901007Z",
     "shell.execute_reply": "2023-06-04T10:26:32.900030Z",
     "shell.execute_reply.started": "2023-06-04T10:26:32.453079Z"
    },
    "id": "89WPZ_UGVblS",
    "outputId": "2166b14e-fe58-4b9f-b316-858256105e82",
    "scrolled": true
   },
   "outputs": [
    {
     "data": {
      "application/vnd.jupyter.widget-view+json": {
       "model_id": "b0d9f9d17c3e4a93aafcf8244141e9e4",
       "version_major": 2,
       "version_minor": 0
      },
      "text/plain": [
       "  0%|          | 0/15 [00:00<?, ?it/s]"
      ]
     },
     "metadata": {},
     "output_type": "display_data"
    }
   ],
   "source": [
    "best_params\n",
    "model = train(coo_train, **best_params)"
   ]
  },
  {
   "cell_type": "code",
   "execution_count": 24,
   "metadata": {
    "execution": {
     "iopub.execute_input": "2023-06-04T10:26:38.664980Z",
     "iopub.status.busy": "2023-06-04T10:26:38.664353Z",
     "iopub.status.idle": "2023-06-04T10:26:38.672805Z",
     "shell.execute_reply": "2023-06-04T10:26:38.671925Z",
     "shell.execute_reply.started": "2023-06-04T10:26:38.664937Z"
    },
    "id": "1ofMGC5hVimM",
    "scrolled": true
   },
   "outputs": [],
   "source": [
    "def submit(model, csr_train, submission_name=\"submissions.csv\"):\n",
    "    preds = []\n",
    "    batch_size = 2000\n",
    "    #生成一个包含所有用户的索引的数组to_generate\n",
    "    to_generate = np.arange(len(ALL_USERS))\n",
    "    for startidx in range(0, len(to_generate), batch_size):\n",
    "        batch = to_generate[startidx : startidx + batch_size]\n",
    "        #获取每个用户的推荐结果，并将结果保存到preds列表中\n",
    "        ids, scores = model.recommend(batch, csr_train[batch], N=12, filter_already_liked_items=False)\n",
    "        for i, userid in enumerate(batch):\n",
    "            customer_id = user_ids[userid]\n",
    "            user_items = ids[i]\n",
    "            article_ids = [item_ids[item_id] for item_id in user_items]\n",
    "            preds.append((customer_id, ' '.join(article_ids)))\n",
    "\n",
    "    df_preds = pd.DataFrame(preds, columns=['customer_id', 'prediction'])\n",
    "    df_preds.to_csv(submission_name, index=False)\n",
    "    \n",
    "    display(df_preds.head())\n",
    "    print(df_preds.shape)\n",
    "    \n",
    "    return df_preds"
   ]
  },
  {
   "cell_type": "code",
   "execution_count": 25,
   "metadata": {
    "colab": {
     "base_uri": "https://localhost:8080/",
     "height": 258
    },
    "execution": {
     "iopub.execute_input": "2023-06-04T10:26:48.995169Z",
     "iopub.status.busy": "2023-06-04T10:26:48.994531Z",
     "iopub.status.idle": "2023-06-04T10:27:35.542653Z",
     "shell.execute_reply": "2023-06-04T10:27:35.541251Z",
     "shell.execute_reply.started": "2023-06-04T10:26:48.995128Z"
    },
    "id": "dly9NrwYVnbB",
    "outputId": "46cd06b1-09d6-439f-d83f-a27981ca9fde",
    "scrolled": true
   },
   "outputs": [
    {
     "data": {
      "text/html": [
       "<div>\n",
       "<style scoped>\n",
       "    .dataframe tbody tr th:only-of-type {\n",
       "        vertical-align: middle;\n",
       "    }\n",
       "\n",
       "    .dataframe tbody tr th {\n",
       "        vertical-align: top;\n",
       "    }\n",
       "\n",
       "    .dataframe thead th {\n",
       "        text-align: right;\n",
       "    }\n",
       "</style>\n",
       "<table border=\"1\" class=\"dataframe\">\n",
       "  <thead>\n",
       "    <tr style=\"text-align: right;\">\n",
       "      <th></th>\n",
       "      <th>customer_id</th>\n",
       "      <th>prediction</th>\n",
       "    </tr>\n",
       "  </thead>\n",
       "  <tbody>\n",
       "    <tr>\n",
       "      <th>0</th>\n",
       "      <td>00000dbacae5abe5e23885899a1fa44253a17956c6d1c3...</td>\n",
       "      <td>0568601006 0762846031 0568601044 0568597006 05...</td>\n",
       "    </tr>\n",
       "    <tr>\n",
       "      <th>1</th>\n",
       "      <td>0000423b00ade91418cceaf3b26c6af3dd342b51fd051e...</td>\n",
       "      <td>0187949032 0187949031 0187949030 0187949029 01...</td>\n",
       "    </tr>\n",
       "    <tr>\n",
       "      <th>2</th>\n",
       "      <td>000058a12d5b43e67d225668fa1f8d618c13dc232df0ca...</td>\n",
       "      <td>0805000001 0804992014 0804992017 0740519002 07...</td>\n",
       "    </tr>\n",
       "    <tr>\n",
       "      <th>3</th>\n",
       "      <td>00005ca1c9ed5f5146b52ac8639a40ca9d57aeff4d1bd2...</td>\n",
       "      <td>0187949032 0187949031 0187949030 0187949029 01...</td>\n",
       "    </tr>\n",
       "    <tr>\n",
       "      <th>4</th>\n",
       "      <td>00006413d8573cd20ed7128e53b7b13819fe5cfc2d801f...</td>\n",
       "      <td>0187949032 0187949031 0187949030 0187949029 01...</td>\n",
       "    </tr>\n",
       "  </tbody>\n",
       "</table>\n",
       "</div>"
      ],
      "text/plain": [
       "                                         customer_id  \\\n",
       "0  00000dbacae5abe5e23885899a1fa44253a17956c6d1c3...   \n",
       "1  0000423b00ade91418cceaf3b26c6af3dd342b51fd051e...   \n",
       "2  000058a12d5b43e67d225668fa1f8d618c13dc232df0ca...   \n",
       "3  00005ca1c9ed5f5146b52ac8639a40ca9d57aeff4d1bd2...   \n",
       "4  00006413d8573cd20ed7128e53b7b13819fe5cfc2d801f...   \n",
       "\n",
       "                                          prediction  \n",
       "0  0568601006 0762846031 0568601044 0568597006 05...  \n",
       "1  0187949032 0187949031 0187949030 0187949029 01...  \n",
       "2  0805000001 0804992014 0804992017 0740519002 07...  \n",
       "3  0187949032 0187949031 0187949030 0187949029 01...  \n",
       "4  0187949032 0187949031 0187949030 0187949029 01...  "
      ]
     },
     "metadata": {},
     "output_type": "display_data"
    },
    {
     "name": "stdout",
     "output_type": "stream",
     "text": [
      "(1371980, 2)\r\n",
      "CPU times: user 43.2 s, sys: 1.76 s, total: 45 s\r\n",
      "Wall time: 46.5 s\r\n"
     ]
    }
   ],
   "source": [
    "%%time\n",
    "df_preds = submit(model, csr_train)"
   ]
  }
 ],
 "metadata": {
  "colab": {
   "authorship_tag": "ABX9TyOflJ25dmX9octP15U1cje4",
   "include_colab_link": true,
   "name": "HundMV4.ipynb",
   "provenance": []
  },
  "kernelspec": {
   "display_name": "Python 3",
   "language": "python",
   "name": "py35-paddle1.2.0"
  },
  "language_info": {
   "codemirror_mode": {
    "name": "ipython",
    "version": 3
   },
   "file_extension": ".py",
   "mimetype": "text/x-python",
   "name": "python",
   "nbconvert_exporter": "python",
   "pygments_lexer": "ipython3",
   "version": "3.7.4"
  },
  "widgets": {
   "application/vnd.jupyter.widget-state+json": {
    "02c2fa8c74ce48cdae87c9b995fc263c": {
     "model_module": "@jupyter-widgets/base",
     "model_module_version": "1.2.0",
     "model_name": "LayoutModel",
     "state": {
      "_model_module": "@jupyter-widgets/base",
      "_model_module_version": "1.2.0",
      "_model_name": "LayoutModel",
      "_view_count": null,
      "_view_module": "@jupyter-widgets/base",
      "_view_module_version": "1.2.0",
      "_view_name": "LayoutView",
      "align_content": null,
      "align_items": null,
      "align_self": null,
      "border": null,
      "bottom": null,
      "display": null,
      "flex": null,
      "flex_flow": null,
      "grid_area": null,
      "grid_auto_columns": null,
      "grid_auto_flow": null,
      "grid_auto_rows": null,
      "grid_column": null,
      "grid_gap": null,
      "grid_row": null,
      "grid_template_areas": null,
      "grid_template_columns": null,
      "grid_template_rows": null,
      "height": null,
      "justify_content": null,
      "justify_items": null,
      "left": null,
      "margin": null,
      "max_height": null,
      "max_width": null,
      "min_height": null,
      "min_width": null,
      "object_fit": null,
      "object_position": null,
      "order": null,
      "overflow": null,
      "overflow_x": null,
      "overflow_y": null,
      "padding": null,
      "right": null,
      "top": null,
      "visibility": null,
      "width": null
     }
    },
    "0b03196e153a41dc9118c4b3268d264d": {
     "model_module": "@jupyter-widgets/controls",
     "model_module_version": "1.5.0",
     "model_name": "HTMLModel",
     "state": {
      "_dom_classes": [],
      "_model_module": "@jupyter-widgets/controls",
      "_model_module_version": "1.5.0",
      "_model_name": "HTMLModel",
      "_view_count": null,
      "_view_module": "@jupyter-widgets/controls",
      "_view_module_version": "1.5.0",
      "_view_name": "HTMLView",
      "description": "",
      "description_tooltip": null,
      "layout": "IPY_MODEL_aeba41f00f6d47039ce86fc48526623d",
      "placeholder": "​",
      "style": "IPY_MODEL_1340ee2db4e94791bcc658edab8d69a3",
      "value": " 12/12 [02:17&lt;00:00, 10.84s/it]"
     }
    },
    "1340ee2db4e94791bcc658edab8d69a3": {
     "model_module": "@jupyter-widgets/controls",
     "model_module_version": "1.5.0",
     "model_name": "DescriptionStyleModel",
     "state": {
      "_model_module": "@jupyter-widgets/controls",
      "_model_module_version": "1.5.0",
      "_model_name": "DescriptionStyleModel",
      "_view_count": null,
      "_view_module": "@jupyter-widgets/base",
      "_view_module_version": "1.2.0",
      "_view_name": "StyleView",
      "description_width": ""
     }
    },
    "1e34af4a58594ae1b2923a48e7d70c9d": {
     "model_module": "@jupyter-widgets/base",
     "model_module_version": "1.2.0",
     "model_name": "LayoutModel",
     "state": {
      "_model_module": "@jupyter-widgets/base",
      "_model_module_version": "1.2.0",
      "_model_name": "LayoutModel",
      "_view_count": null,
      "_view_module": "@jupyter-widgets/base",
      "_view_module_version": "1.2.0",
      "_view_name": "LayoutView",
      "align_content": null,
      "align_items": null,
      "align_self": null,
      "border": null,
      "bottom": null,
      "display": null,
      "flex": null,
      "flex_flow": null,
      "grid_area": null,
      "grid_auto_columns": null,
      "grid_auto_flow": null,
      "grid_auto_rows": null,
      "grid_column": null,
      "grid_gap": null,
      "grid_row": null,
      "grid_template_areas": null,
      "grid_template_columns": null,
      "grid_template_rows": null,
      "height": null,
      "justify_content": null,
      "justify_items": null,
      "left": null,
      "margin": null,
      "max_height": null,
      "max_width": null,
      "min_height": null,
      "min_width": null,
      "object_fit": null,
      "object_position": null,
      "order": null,
      "overflow": null,
      "overflow_x": null,
      "overflow_y": null,
      "padding": null,
      "right": null,
      "top": null,
      "visibility": null,
      "width": null
     }
    },
    "21ba10ec33684c2a8d55324e43627677": {
     "model_module": "@jupyter-widgets/controls",
     "model_module_version": "1.5.0",
     "model_name": "FloatProgressModel",
     "state": {
      "_dom_classes": [],
      "_model_module": "@jupyter-widgets/controls",
      "_model_module_version": "1.5.0",
      "_model_name": "FloatProgressModel",
      "_view_count": null,
      "_view_module": "@jupyter-widgets/controls",
      "_view_module_version": "1.5.0",
      "_view_name": "ProgressView",
      "bar_style": "success",
      "description": "",
      "description_tooltip": null,
      "layout": "IPY_MODEL_de240caf8e0947c1bf6a2e02ee3d8d37",
      "max": 12,
      "min": 0,
      "orientation": "horizontal",
      "style": "IPY_MODEL_2d7456c24b204b18826df826efe28431",
      "value": 12
     }
    },
    "2d7456c24b204b18826df826efe28431": {
     "model_module": "@jupyter-widgets/controls",
     "model_module_version": "1.5.0",
     "model_name": "ProgressStyleModel",
     "state": {
      "_model_module": "@jupyter-widgets/controls",
      "_model_module_version": "1.5.0",
      "_model_name": "ProgressStyleModel",
      "_view_count": null,
      "_view_module": "@jupyter-widgets/base",
      "_view_module_version": "1.2.0",
      "_view_name": "StyleView",
      "bar_color": null,
      "description_width": ""
     }
    },
    "3170622ac24844498d3eca78324b4fa8": {
     "model_module": "@jupyter-widgets/base",
     "model_module_version": "1.2.0",
     "model_name": "LayoutModel",
     "state": {
      "_model_module": "@jupyter-widgets/base",
      "_model_module_version": "1.2.0",
      "_model_name": "LayoutModel",
      "_view_count": null,
      "_view_module": "@jupyter-widgets/base",
      "_view_module_version": "1.2.0",
      "_view_name": "LayoutView",
      "align_content": null,
      "align_items": null,
      "align_self": null,
      "border": null,
      "bottom": null,
      "display": null,
      "flex": null,
      "flex_flow": null,
      "grid_area": null,
      "grid_auto_columns": null,
      "grid_auto_flow": null,
      "grid_auto_rows": null,
      "grid_column": null,
      "grid_gap": null,
      "grid_row": null,
      "grid_template_areas": null,
      "grid_template_columns": null,
      "grid_template_rows": null,
      "height": null,
      "justify_content": null,
      "justify_items": null,
      "left": null,
      "margin": null,
      "max_height": null,
      "max_width": null,
      "min_height": null,
      "min_width": null,
      "object_fit": null,
      "object_position": null,
      "order": null,
      "overflow": null,
      "overflow_x": null,
      "overflow_y": null,
      "padding": null,
      "right": null,
      "top": null,
      "visibility": null,
      "width": null
     }
    },
    "32c41ba91d4e49ec91b1d29aa7a7b5f8": {
     "model_module": "@jupyter-widgets/controls",
     "model_module_version": "1.5.0",
     "model_name": "HTMLModel",
     "state": {
      "_dom_classes": [],
      "_model_module": "@jupyter-widgets/controls",
      "_model_module_version": "1.5.0",
      "_model_name": "HTMLModel",
      "_view_count": null,
      "_view_module": "@jupyter-widgets/controls",
      "_view_module_version": "1.5.0",
      "_view_name": "HTMLView",
      "description": "",
      "description_tooltip": null,
      "layout": "IPY_MODEL_3170622ac24844498d3eca78324b4fa8",
      "placeholder": "​",
      "style": "IPY_MODEL_48e4d3a768594d258a3151c1ceb984c5",
      "value": " 2/2 [00:20&lt;00:00, 10.18s/it]"
     }
    },
    "33c78f09b450478389c4978c46467e91": {
     "model_module": "@jupyter-widgets/base",
     "model_module_version": "1.2.0",
     "model_name": "LayoutModel",
     "state": {
      "_model_module": "@jupyter-widgets/base",
      "_model_module_version": "1.2.0",
      "_model_name": "LayoutModel",
      "_view_count": null,
      "_view_module": "@jupyter-widgets/base",
      "_view_module_version": "1.2.0",
      "_view_name": "LayoutView",
      "align_content": null,
      "align_items": null,
      "align_self": null,
      "border": null,
      "bottom": null,
      "display": null,
      "flex": null,
      "flex_flow": null,
      "grid_area": null,
      "grid_auto_columns": null,
      "grid_auto_flow": null,
      "grid_auto_rows": null,
      "grid_column": null,
      "grid_gap": null,
      "grid_row": null,
      "grid_template_areas": null,
      "grid_template_columns": null,
      "grid_template_rows": null,
      "height": null,
      "justify_content": null,
      "justify_items": null,
      "left": null,
      "margin": null,
      "max_height": null,
      "max_width": null,
      "min_height": null,
      "min_width": null,
      "object_fit": null,
      "object_position": null,
      "order": null,
      "overflow": null,
      "overflow_x": null,
      "overflow_y": null,
      "padding": null,
      "right": null,
      "top": null,
      "visibility": null,
      "width": null
     }
    },
    "36bf07ad97ba4402a90b51c234a10e63": {
     "model_module": "@jupyter-widgets/controls",
     "model_module_version": "1.5.0",
     "model_name": "DescriptionStyleModel",
     "state": {
      "_model_module": "@jupyter-widgets/controls",
      "_model_module_version": "1.5.0",
      "_model_name": "DescriptionStyleModel",
      "_view_count": null,
      "_view_module": "@jupyter-widgets/base",
      "_view_module_version": "1.2.0",
      "_view_name": "StyleView",
      "description_width": ""
     }
    },
    "48e4d3a768594d258a3151c1ceb984c5": {
     "model_module": "@jupyter-widgets/controls",
     "model_module_version": "1.5.0",
     "model_name": "DescriptionStyleModel",
     "state": {
      "_model_module": "@jupyter-widgets/controls",
      "_model_module_version": "1.5.0",
      "_model_name": "DescriptionStyleModel",
      "_view_count": null,
      "_view_module": "@jupyter-widgets/base",
      "_view_module_version": "1.2.0",
      "_view_name": "StyleView",
      "description_width": ""
     }
    },
    "4fb1762f38f74348b61204b508cbb126": {
     "model_module": "@jupyter-widgets/controls",
     "model_module_version": "1.5.0",
     "model_name": "HBoxModel",
     "state": {
      "_dom_classes": [],
      "_model_module": "@jupyter-widgets/controls",
      "_model_module_version": "1.5.0",
      "_model_name": "HBoxModel",
      "_view_count": null,
      "_view_module": "@jupyter-widgets/controls",
      "_view_module_version": "1.5.0",
      "_view_name": "HBoxView",
      "box_style": "",
      "children": [
       "IPY_MODEL_767125b57d4e4efd93d5855e1b51b50d",
       "IPY_MODEL_710cebbe524a4671a0f9b37300ab90d2",
       "IPY_MODEL_32c41ba91d4e49ec91b1d29aa7a7b5f8"
      ],
      "layout": "IPY_MODEL_33c78f09b450478389c4978c46467e91"
     }
    },
    "5e04f878b37b44a39471ddafa8bc70ea": {
     "model_module": "@jupyter-widgets/base",
     "model_module_version": "1.2.0",
     "model_name": "LayoutModel",
     "state": {
      "_model_module": "@jupyter-widgets/base",
      "_model_module_version": "1.2.0",
      "_model_name": "LayoutModel",
      "_view_count": null,
      "_view_module": "@jupyter-widgets/base",
      "_view_module_version": "1.2.0",
      "_view_name": "LayoutView",
      "align_content": null,
      "align_items": null,
      "align_self": null,
      "border": null,
      "bottom": null,
      "display": null,
      "flex": null,
      "flex_flow": null,
      "grid_area": null,
      "grid_auto_columns": null,
      "grid_auto_flow": null,
      "grid_auto_rows": null,
      "grid_column": null,
      "grid_gap": null,
      "grid_row": null,
      "grid_template_areas": null,
      "grid_template_columns": null,
      "grid_template_rows": null,
      "height": null,
      "justify_content": null,
      "justify_items": null,
      "left": null,
      "margin": null,
      "max_height": null,
      "max_width": null,
      "min_height": null,
      "min_width": null,
      "object_fit": null,
      "object_position": null,
      "order": null,
      "overflow": null,
      "overflow_x": null,
      "overflow_y": null,
      "padding": null,
      "right": null,
      "top": null,
      "visibility": null,
      "width": null
     }
    },
    "6edc757e91ad465e93b165e65f82b4b4": {
     "model_module": "@jupyter-widgets/controls",
     "model_module_version": "1.5.0",
     "model_name": "DescriptionStyleModel",
     "state": {
      "_model_module": "@jupyter-widgets/controls",
      "_model_module_version": "1.5.0",
      "_model_name": "DescriptionStyleModel",
      "_view_count": null,
      "_view_module": "@jupyter-widgets/base",
      "_view_module_version": "1.2.0",
      "_view_name": "StyleView",
      "description_width": ""
     }
    },
    "710cebbe524a4671a0f9b37300ab90d2": {
     "model_module": "@jupyter-widgets/controls",
     "model_module_version": "1.5.0",
     "model_name": "FloatProgressModel",
     "state": {
      "_dom_classes": [],
      "_model_module": "@jupyter-widgets/controls",
      "_model_module_version": "1.5.0",
      "_model_name": "FloatProgressModel",
      "_view_count": null,
      "_view_module": "@jupyter-widgets/controls",
      "_view_module_version": "1.5.0",
      "_view_name": "ProgressView",
      "bar_style": "success",
      "description": "",
      "description_tooltip": null,
      "layout": "IPY_MODEL_02c2fa8c74ce48cdae87c9b995fc263c",
      "max": 2,
      "min": 0,
      "orientation": "horizontal",
      "style": "IPY_MODEL_7f935abad9b241b6ad28892c1c004b6d",
      "value": 2
     }
    },
    "767125b57d4e4efd93d5855e1b51b50d": {
     "model_module": "@jupyter-widgets/controls",
     "model_module_version": "1.5.0",
     "model_name": "HTMLModel",
     "state": {
      "_dom_classes": [],
      "_model_module": "@jupyter-widgets/controls",
      "_model_module_version": "1.5.0",
      "_model_name": "HTMLModel",
      "_view_count": null,
      "_view_module": "@jupyter-widgets/controls",
      "_view_module_version": "1.5.0",
      "_view_name": "HTMLView",
      "description": "",
      "description_tooltip": null,
      "layout": "IPY_MODEL_5e04f878b37b44a39471ddafa8bc70ea",
      "placeholder": "​",
      "style": "IPY_MODEL_36bf07ad97ba4402a90b51c234a10e63",
      "value": "100%"
     }
    },
    "7f935abad9b241b6ad28892c1c004b6d": {
     "model_module": "@jupyter-widgets/controls",
     "model_module_version": "1.5.0",
     "model_name": "ProgressStyleModel",
     "state": {
      "_model_module": "@jupyter-widgets/controls",
      "_model_module_version": "1.5.0",
      "_model_name": "ProgressStyleModel",
      "_view_count": null,
      "_view_module": "@jupyter-widgets/base",
      "_view_module_version": "1.2.0",
      "_view_name": "StyleView",
      "bar_color": null,
      "description_width": ""
     }
    },
    "aeba41f00f6d47039ce86fc48526623d": {
     "model_module": "@jupyter-widgets/base",
     "model_module_version": "1.2.0",
     "model_name": "LayoutModel",
     "state": {
      "_model_module": "@jupyter-widgets/base",
      "_model_module_version": "1.2.0",
      "_model_name": "LayoutModel",
      "_view_count": null,
      "_view_module": "@jupyter-widgets/base",
      "_view_module_version": "1.2.0",
      "_view_name": "LayoutView",
      "align_content": null,
      "align_items": null,
      "align_self": null,
      "border": null,
      "bottom": null,
      "display": null,
      "flex": null,
      "flex_flow": null,
      "grid_area": null,
      "grid_auto_columns": null,
      "grid_auto_flow": null,
      "grid_auto_rows": null,
      "grid_column": null,
      "grid_gap": null,
      "grid_row": null,
      "grid_template_areas": null,
      "grid_template_columns": null,
      "grid_template_rows": null,
      "height": null,
      "justify_content": null,
      "justify_items": null,
      "left": null,
      "margin": null,
      "max_height": null,
      "max_width": null,
      "min_height": null,
      "min_width": null,
      "object_fit": null,
      "object_position": null,
      "order": null,
      "overflow": null,
      "overflow_x": null,
      "overflow_y": null,
      "padding": null,
      "right": null,
      "top": null,
      "visibility": null,
      "width": null
     }
    },
    "cec04b32eabd412399a2bb8aa2f3d305": {
     "model_module": "@jupyter-widgets/controls",
     "model_module_version": "1.5.0",
     "model_name": "HBoxModel",
     "state": {
      "_dom_classes": [],
      "_model_module": "@jupyter-widgets/controls",
      "_model_module_version": "1.5.0",
      "_model_name": "HBoxModel",
      "_view_count": null,
      "_view_module": "@jupyter-widgets/controls",
      "_view_module_version": "1.5.0",
      "_view_name": "HBoxView",
      "box_style": "",
      "children": [
       "IPY_MODEL_e9500c8bbad242e7b8ae73bdfa776289",
       "IPY_MODEL_21ba10ec33684c2a8d55324e43627677",
       "IPY_MODEL_0b03196e153a41dc9118c4b3268d264d"
      ],
      "layout": "IPY_MODEL_fc4e97ee89ff4e44871be67646989396"
     }
    },
    "de240caf8e0947c1bf6a2e02ee3d8d37": {
     "model_module": "@jupyter-widgets/base",
     "model_module_version": "1.2.0",
     "model_name": "LayoutModel",
     "state": {
      "_model_module": "@jupyter-widgets/base",
      "_model_module_version": "1.2.0",
      "_model_name": "LayoutModel",
      "_view_count": null,
      "_view_module": "@jupyter-widgets/base",
      "_view_module_version": "1.2.0",
      "_view_name": "LayoutView",
      "align_content": null,
      "align_items": null,
      "align_self": null,
      "border": null,
      "bottom": null,
      "display": null,
      "flex": null,
      "flex_flow": null,
      "grid_area": null,
      "grid_auto_columns": null,
      "grid_auto_flow": null,
      "grid_auto_rows": null,
      "grid_column": null,
      "grid_gap": null,
      "grid_row": null,
      "grid_template_areas": null,
      "grid_template_columns": null,
      "grid_template_rows": null,
      "height": null,
      "justify_content": null,
      "justify_items": null,
      "left": null,
      "margin": null,
      "max_height": null,
      "max_width": null,
      "min_height": null,
      "min_width": null,
      "object_fit": null,
      "object_position": null,
      "order": null,
      "overflow": null,
      "overflow_x": null,
      "overflow_y": null,
      "padding": null,
      "right": null,
      "top": null,
      "visibility": null,
      "width": null
     }
    },
    "e9500c8bbad242e7b8ae73bdfa776289": {
     "model_module": "@jupyter-widgets/controls",
     "model_module_version": "1.5.0",
     "model_name": "HTMLModel",
     "state": {
      "_dom_classes": [],
      "_model_module": "@jupyter-widgets/controls",
      "_model_module_version": "1.5.0",
      "_model_name": "HTMLModel",
      "_view_count": null,
      "_view_module": "@jupyter-widgets/controls",
      "_view_module_version": "1.5.0",
      "_view_name": "HTMLView",
      "description": "",
      "description_tooltip": null,
      "layout": "IPY_MODEL_1e34af4a58594ae1b2923a48e7d70c9d",
      "placeholder": "​",
      "style": "IPY_MODEL_6edc757e91ad465e93b165e65f82b4b4",
      "value": "100%"
     }
    },
    "fc4e97ee89ff4e44871be67646989396": {
     "model_module": "@jupyter-widgets/base",
     "model_module_version": "1.2.0",
     "model_name": "LayoutModel",
     "state": {
      "_model_module": "@jupyter-widgets/base",
      "_model_module_version": "1.2.0",
      "_model_name": "LayoutModel",
      "_view_count": null,
      "_view_module": "@jupyter-widgets/base",
      "_view_module_version": "1.2.0",
      "_view_name": "LayoutView",
      "align_content": null,
      "align_items": null,
      "align_self": null,
      "border": null,
      "bottom": null,
      "display": null,
      "flex": null,
      "flex_flow": null,
      "grid_area": null,
      "grid_auto_columns": null,
      "grid_auto_flow": null,
      "grid_auto_rows": null,
      "grid_column": null,
      "grid_gap": null,
      "grid_row": null,
      "grid_template_areas": null,
      "grid_template_columns": null,
      "grid_template_rows": null,
      "height": null,
      "justify_content": null,
      "justify_items": null,
      "left": null,
      "margin": null,
      "max_height": null,
      "max_width": null,
      "min_height": null,
      "min_width": null,
      "object_fit": null,
      "object_position": null,
      "order": null,
      "overflow": null,
      "overflow_x": null,
      "overflow_y": null,
      "padding": null,
      "right": null,
      "top": null,
      "visibility": null,
      "width": null
     }
    }
   }
  }
 },
 "nbformat": 4,
 "nbformat_minor": 4
}
