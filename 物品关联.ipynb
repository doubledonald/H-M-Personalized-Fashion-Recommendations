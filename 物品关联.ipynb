{
 "cells": [
  {
   "cell_type": "markdown",
   "id": "920f70d7-bef9-4b7f-aff4-a10a88fd3684",
   "metadata": {},
   "source": [
    "# 基于物品信息构建物品特征矩阵"
   ]
  },
  {
   "cell_type": "code",
   "execution_count": 1,
   "id": "7af890a9-093d-4d99-bf46-c307d36211f3",
   "metadata": {
    "execution": {
     "iopub.execute_input": "2023-06-17T01:51:57.160291Z",
     "iopub.status.busy": "2023-06-17T01:51:57.158908Z",
     "iopub.status.idle": "2023-06-17T01:52:09.347604Z",
     "shell.execute_reply": "2023-06-17T01:52:09.346696Z",
     "shell.execute_reply.started": "2023-06-17T01:51:57.160255Z"
    },
    "scrolled": true
   },
   "outputs": [],
   "source": [
    "import pandas as pd\n",
    "import numpy as np\n",
    "from collections import Counter\n",
    "from sklearn.preprocessing import OneHotEncoder\n",
    "from pandas import  DataFrame\n",
    "\n",
    "art = pd.read_csv(\"./data/rawdata/articles.csv\")\n",
    "# 我们只关注下面6个类别特征\n",
    "art = art[['article_id', 'product_code', 'product_type_no', 'graphical_appearance_no',\n",
    "           'colour_group_code', 'perceived_colour_value_id', 'perceived_colour_master_id']]\n",
    "# 'product_code' : 47224 个不同的值。\n",
    "# 'product_type_no'：132 个不同的值。\n",
    "# 'graphical_appearance_no'：30 个不同的值。\n",
    "# 'colour_group_code'：50 个不同的值。\n",
    "# 'perceived_colour_value_id'：8 个不同的值。\n",
    "# 'perceived_colour_master_id'：20 个不同的值。\n",
    "# product_code：取出现次数最多的前10个，后面的合并。\n",
    "most_freq_top10_prod_code = np.array(Counter(art.product_code).most_common(10))[:, 0]\n",
    "# 如果color不是最频繁的10个color,那么就给定一个默认值0，减少one-hot编码的维度\n",
    "art['product_code'] = art['product_code'].apply(lambda t: t if t in most_freq_top10_prod_code else -1)\n",
    "# product_type_no：取出现次数最多的前10个，后面的合并。\n",
    "most_frequent_top10_product_type_no = np.array(Counter(art.product_type_no).most_common(10))[:, 0]\n",
    "# 如果color不是最频繁的10个color,那么就给定一个默认值0，减少one-hot编码的维度\n",
    "art['product_type_no'] = art['product_type_no'].apply(\n",
    "    lambda t: t if t in most_frequent_top10_product_type_no else -1)\n",
    "one_hot = OneHotEncoder(handle_unknown='ignore')\n",
    "one_hot_data = art[['product_code', 'product_type_no', 'graphical_appearance_no',\n",
    "                    'colour_group_code', 'perceived_colour_value_id', 'perceived_colour_master_id']]\n",
    "one_hot.fit(one_hot_data)\n",
    "feature_array = one_hot.transform(np.array(one_hot_data)).toarray()\n",
    "# 两个ndarray水平合并，跟data['id']合并，方便后面两个DataFrame合并\n",
    "feature_array_add_id = np.hstack((np.asarray([art['article_id'].values]).T, feature_array))\n",
    "df_train = DataFrame(feature_array_add_id, columns=np.hstack((np.asarray(['article_id']),\n",
    "                                                            one_hot.get_feature_names())))\n",
    "\n",
    "df_train['article_id'] = df_train['article_id'].apply(lambda t: int(t))\n",
    "\n",
    "df_train.to_csv('./output/kmeans_train.csv', index=0)"
   ]
  },
  {
   "cell_type": "markdown",
   "id": "3b69c7da-57a2-4625-88ab-90b049bf52f8",
   "metadata": {},
   "source": [
    "# 基于物品关联的召回"
   ]
  },
  {
   "cell_type": "code",
   "execution_count": 3,
   "id": "0cad0f44-994b-4e9b-9c1a-c06548f3279c",
   "metadata": {
    "execution": {
     "iopub.execute_input": "2023-06-18T02:40:04.652526Z",
     "iopub.status.busy": "2023-06-18T02:40:04.651893Z",
     "iopub.status.idle": "2023-06-18T02:40:05.702506Z",
     "shell.execute_reply": "2023-06-18T02:40:05.701594Z",
     "shell.execute_reply.started": "2023-06-18T02:40:04.652496Z"
    },
    "scrolled": true
   },
   "outputs": [],
   "source": [
    "import pandas as pd\n",
    "df_train = pd.read_csv('./output/kmeans_train.csv') "
   ]
  },
  {
   "cell_type": "code",
   "execution_count": 41,
   "id": "acd65045-fa51-4141-b6ff-2c8b3bb2b215",
   "metadata": {
    "execution": {
     "iopub.execute_input": "2023-06-18T09:42:54.084842Z",
     "iopub.status.busy": "2023-06-18T09:42:54.084177Z",
     "iopub.status.idle": "2023-06-18T10:31:18.797266Z",
     "shell.execute_reply": "2023-06-18T10:31:18.796281Z",
     "shell.execute_reply.started": "2023-06-18T09:42:54.084810Z"
    },
    "scrolled": true,
    "tags": []
   },
   "outputs": [],
   "source": [
    "from sklearn.cluster import KMeans\n",
    "import random\n",
    "import pandas as pd\n",
    "import numpy as np\n",
    "from collections import Counter\n",
    "from sklearn.preprocessing import OneHotEncoder\n",
    "from pandas import  DataFrame\n",
    "n_clusters = 1000\n",
    "# X = np.array([[1, 2], [1, 4], [1, 0], [10, 2], [10, 4], [10, 0]])\n",
    "# k_means = KMeans(n_clusters=2, random_state=0).fit(X)\n",
    "# n_clusters: 一共聚多少类，默认值8\n",
    "# init：选择中心点的初始化方法，默认值k-means++\n",
    "# n_init：算法基于不同的中心点运行多少次，最后的结果基于最好的一次迭代的结果，默认值10\n",
    "# max_iter: 最大迭代次数，默认值300\n",
    "k_means = KMeans(init='k-means++', n_clusters=n_clusters, n_init=10,\n",
    "                 max_iter=300).fit(df_train.drop(columns=['article_id']).values)\n",
    "                 \n",
    "result_array = np.hstack((np.asarray([df_train['article_id'].values]).T,\n",
    "                          np.asarray([k_means.labels_]).T))\n",
    "# 将物品id和具体的类别转化为DataFrame。\n",
    "cluster_result = DataFrame(result_array, columns=['article_id', 'cluster'])\n",
    "cluster_result.to_csv('./output/kmeans.csv', index=0)\n",
    "df_cluster = pd.read_csv('./output/kmeans.csv')\n",
    "# 每个id对应的cluster的映射字典。\n",
    "id_cluster_dict = dict(df_cluster.values)\n",
    "tmp = df_cluster.values\n",
    "cluster_ids_dict = {}\n",
    "for i in range(tmp.shape[0]):\n",
    "    [id_, cluster_] = tmp[i]\n",
    "    if cluster_ in cluster_ids_dict.keys():\n",
    "        cluster_ids_dict[cluster_] = cluster_ids_dict[cluster_] + [id_]\n",
    "    else:\n",
    "        cluster_ids_dict[cluster_] = [id_]\n",
    "\n"
   ]
  },
  {
   "cell_type": "code",
   "execution_count": 42,
   "id": "a65929a8-ca10-4122-bcdc-552ec5238f40",
   "metadata": {
    "execution": {
     "iopub.execute_input": "2023-06-18T10:32:58.661470Z",
     "iopub.status.busy": "2023-06-18T10:32:58.660844Z",
     "iopub.status.idle": "2023-06-18T10:32:58.666192Z",
     "shell.execute_reply": "2023-06-18T10:32:58.665413Z",
     "shell.execute_reply.started": "2023-06-18T10:32:58.661438Z"
    },
    "scrolled": true
   },
   "outputs": [],
   "source": [
    "# 基于聚类，为每个物品关联k个最相似的物品。\n",
    "def article_similar_recall(art_id, k):\n",
    "    rec = cluster_ids_dict.get(id_cluster_dict.get(art_id))\n",
    "    #if art_id in rec:\n",
    "        #rec.remove(art_id)\n",
    "    if len(rec)>k:\n",
    "        return random.sample(rec, k)\n",
    "    else:\n",
    "        return rec"
   ]
  },
  {
   "cell_type": "code",
   "execution_count": 43,
   "id": "16323218-3e49-4c66-b68b-4591ebb2cc4a",
   "metadata": {
    "execution": {
     "iopub.execute_input": "2023-06-18T10:33:00.999943Z",
     "iopub.status.busy": "2023-06-18T10:33:00.999175Z",
     "iopub.status.idle": "2023-06-18T10:33:01.528277Z",
     "shell.execute_reply": "2023-06-18T10:33:01.527360Z",
     "shell.execute_reply.started": "2023-06-18T10:33:00.999910Z"
    },
    "scrolled": true
   },
   "outputs": [],
   "source": [
    "art = pd.read_csv(\"./data/rawdata/articles.csv\")\n",
    "art_id = art['article_id']"
   ]
  },
  {
   "cell_type": "code",
   "execution_count": 48,
   "id": "16773619-7e63-479d-9f0a-7b4e9222b75a",
   "metadata": {
    "execution": {
     "iopub.execute_input": "2023-06-18T10:50:31.868168Z",
     "iopub.status.busy": "2023-06-18T10:50:31.867619Z",
     "iopub.status.idle": "2023-06-18T10:50:33.892574Z",
     "shell.execute_reply": "2023-06-18T10:50:33.891428Z",
     "shell.execute_reply.started": "2023-06-18T10:50:31.868137Z"
    },
    "scrolled": true
   },
   "outputs": [],
   "source": [
    "#top_id=[]\n",
    "rec_num = 20\n",
    "sub={}\n",
    "for id in set(art_id.values):\n",
    "    #top_id.append(article_similar_recall(id, rec_num))\n",
    "    sub[id] = article_similar_recall(id, rec_num)\n",
    "\n"
   ]
  },
  {
   "cell_type": "code",
   "execution_count": null,
   "id": "3bcab9ca-5d60-43b4-a926-182251b01b1e",
   "metadata": {
    "execution": {
     "iopub.execute_input": "2023-06-18T10:50:35.104405Z",
     "iopub.status.busy": "2023-06-18T10:50:35.103427Z",
     "iopub.status.idle": "2023-06-18T10:50:35.423144Z",
     "shell.execute_reply": "2023-06-18T10:50:35.422156Z",
     "shell.execute_reply.started": "2023-06-18T10:50:35.104371Z"
    },
    "scrolled": true
   },
   "outputs": [],
   "source": [
    "sub"
   ]
  },
  {
   "cell_type": "code",
   "execution_count": 50,
   "id": "96f46590-d396-406c-a0cb-fb8cd99eaae3",
   "metadata": {
    "execution": {
     "iopub.execute_input": "2023-06-18T10:54:19.595687Z",
     "iopub.status.busy": "2023-06-18T10:54:19.594897Z",
     "iopub.status.idle": "2023-06-18T10:54:19.648525Z",
     "shell.execute_reply": "2023-06-18T10:54:19.647229Z",
     "shell.execute_reply.started": "2023-06-18T10:54:19.595653Z"
    },
    "scrolled": true
   },
   "outputs": [],
   "source": [
    "d={}\n",
    "d['art_id']=[]\n",
    "d['pre']=[]\n",
    "for k in sub:\n",
    "    d['art_id'].append(k)\n",
    "    d['pre'].append(sub[k])"
   ]
  },
  {
   "cell_type": "code",
   "execution_count": 54,
   "id": "f7a78862-ff9b-46fb-b78b-a25afefec160",
   "metadata": {
    "execution": {
     "iopub.execute_input": "2023-06-18T10:55:19.620676Z",
     "iopub.status.busy": "2023-06-18T10:55:19.619905Z",
     "iopub.status.idle": "2023-06-18T10:55:19.856509Z",
     "shell.execute_reply": "2023-06-18T10:55:19.855475Z",
     "shell.execute_reply.started": "2023-06-18T10:55:19.620645Z"
    },
    "scrolled": true
   },
   "outputs": [],
   "source": [
    "df = pd.DataFrame(d,columns=['art_id','pre'])"
   ]
  },
  {
   "cell_type": "code",
   "execution_count": 55,
   "id": "fb2a1bc0-c399-402f-adba-6612e200f230",
   "metadata": {
    "execution": {
     "iopub.execute_input": "2023-06-18T10:55:21.164818Z",
     "iopub.status.busy": "2023-06-18T10:55:21.163882Z",
     "iopub.status.idle": "2023-06-18T10:55:21.174994Z",
     "shell.execute_reply": "2023-06-18T10:55:21.174239Z",
     "shell.execute_reply.started": "2023-06-18T10:55:21.164787Z"
    },
    "scrolled": true
   },
   "outputs": [
    {
     "data": {
      "text/html": [
       "<div>\n",
       "<style scoped>\n",
       "    .dataframe tbody tr th:only-of-type {\n",
       "        vertical-align: middle;\n",
       "    }\n",
       "\n",
       "    .dataframe tbody tr th {\n",
       "        vertical-align: top;\n",
       "    }\n",
       "\n",
       "    .dataframe thead th {\n",
       "        text-align: right;\n",
       "    }\n",
       "</style>\n",
       "<table border=\"1\" class=\"dataframe\">\n",
       "  <thead>\n",
       "    <tr style=\"text-align: right;\">\n",
       "      <th></th>\n",
       "      <th>art_id</th>\n",
       "      <th>pre</th>\n",
       "    </tr>\n",
       "  </thead>\n",
       "  <tbody>\n",
       "    <tr>\n",
       "      <th>0</th>\n",
       "      <td>522453001</td>\n",
       "      <td>[554529002, 730683019, 620621002, 570489001, 6...</td>\n",
       "    </tr>\n",
       "    <tr>\n",
       "      <th>1</th>\n",
       "      <td>522453002</td>\n",
       "      <td>[645422003, 857762001, 845095001, 838901001, 7...</td>\n",
       "    </tr>\n",
       "    <tr>\n",
       "      <th>2</th>\n",
       "      <td>651690001</td>\n",
       "      <td>[727180003, 834059001, 698437004, 888229006, 4...</td>\n",
       "    </tr>\n",
       "    <tr>\n",
       "      <th>3</th>\n",
       "      <td>749994001</td>\n",
       "      <td>[734319002, 664405015, 685920001, 561758008, 5...</td>\n",
       "    </tr>\n",
       "    <tr>\n",
       "      <th>4</th>\n",
       "      <td>651690003</td>\n",
       "      <td>[828631002, 559971001, 895421001, 841473004, 6...</td>\n",
       "    </tr>\n",
       "  </tbody>\n",
       "</table>\n",
       "</div>"
      ],
      "text/plain": [
       "      art_id                                                pre\n",
       "0  522453001  [554529002, 730683019, 620621002, 570489001, 6...\n",
       "1  522453002  [645422003, 857762001, 845095001, 838901001, 7...\n",
       "2  651690001  [727180003, 834059001, 698437004, 888229006, 4...\n",
       "3  749994001  [734319002, 664405015, 685920001, 561758008, 5...\n",
       "4  651690003  [828631002, 559971001, 895421001, 841473004, 6..."
      ]
     },
     "execution_count": 55,
     "metadata": {},
     "output_type": "execute_result"
    }
   ],
   "source": [
    "df.head()"
   ]
  },
  {
   "cell_type": "code",
   "execution_count": 57,
   "id": "c111d9da-6543-4b95-b3f4-4de657c8c4af",
   "metadata": {
    "execution": {
     "iopub.execute_input": "2023-06-18T10:58:46.306172Z",
     "iopub.status.busy": "2023-06-18T10:58:46.305463Z",
     "iopub.status.idle": "2023-06-18T10:58:47.766597Z",
     "shell.execute_reply": "2023-06-18T10:58:47.765663Z",
     "shell.execute_reply.started": "2023-06-18T10:58:46.306141Z"
    },
    "scrolled": true
   },
   "outputs": [],
   "source": [
    "df.to_csv('./output/相似物品推荐.csv',index=None)"
   ]
  },
  {
   "cell_type": "code",
   "execution_count": 1,
   "id": "07d11e9c-b538-4f5b-a4f4-3095f3d8ff7f",
   "metadata": {
    "scrolled": true
   },
   "outputs": [
    {
     "data": {
      "text/html": [
       "<div>\n",
       "<style scoped>\n",
       "    .dataframe tbody tr th:only-of-type {\n",
       "        vertical-align: middle;\n",
       "    }\n",
       "\n",
       "    .dataframe tbody tr th {\n",
       "        vertical-align: top;\n",
       "    }\n",
       "\n",
       "    .dataframe thead th {\n",
       "        text-align: right;\n",
       "    }\n",
       "</style>\n",
       "<table border=\"1\" class=\"dataframe\">\n",
       "  <thead>\n",
       "    <tr style=\"text-align: right;\">\n",
       "      <th></th>\n",
       "      <th>art_id</th>\n",
       "      <th>pre</th>\n",
       "    </tr>\n",
       "  </thead>\n",
       "  <tbody>\n",
       "    <tr>\n",
       "      <th>0</th>\n",
       "      <td>522453001</td>\n",
       "      <td>[554529002, 730683019, 620621002, 570489001, 6...</td>\n",
       "    </tr>\n",
       "    <tr>\n",
       "      <th>1</th>\n",
       "      <td>522453002</td>\n",
       "      <td>[645422003, 857762001, 845095001, 838901001, 7...</td>\n",
       "    </tr>\n",
       "    <tr>\n",
       "      <th>2</th>\n",
       "      <td>651690001</td>\n",
       "      <td>[727180003, 834059001, 698437004, 888229006, 4...</td>\n",
       "    </tr>\n",
       "    <tr>\n",
       "      <th>3</th>\n",
       "      <td>749994001</td>\n",
       "      <td>[734319002, 664405015, 685920001, 561758008, 5...</td>\n",
       "    </tr>\n",
       "    <tr>\n",
       "      <th>4</th>\n",
       "      <td>651690003</td>\n",
       "      <td>[828631002, 559971001, 895421001, 841473004, 6...</td>\n",
       "    </tr>\n",
       "  </tbody>\n",
       "</table>\n",
       "</div>"
      ],
      "text/plain": [
       "      art_id                                                pre\n",
       "0  522453001  [554529002, 730683019, 620621002, 570489001, 6...\n",
       "1  522453002  [645422003, 857762001, 845095001, 838901001, 7...\n",
       "2  651690001  [727180003, 834059001, 698437004, 888229006, 4...\n",
       "3  749994001  [734319002, 664405015, 685920001, 561758008, 5...\n",
       "4  651690003  [828631002, 559971001, 895421001, 841473004, 6..."
      ]
     },
     "execution_count": 1,
     "metadata": {},
     "output_type": "execute_result"
    }
   ],
   "source": [
    "import pandas as pd\n",
    "\n",
    "items = pd.read_csv('./output/相似物品推荐.csv')\n",
    "items.head()"
   ]
  },
  {
   "cell_type": "code",
   "execution_count": 13,
   "id": "8d39f51e",
   "metadata": {},
   "outputs": [],
   "source": [
    "items.rename(columns={'art_id':'article_id'},inplace=True)"
   ]
  },
  {
   "cell_type": "code",
   "execution_count": 11,
   "id": "0f58e419",
   "metadata": {},
   "outputs": [
    {
     "data": {
      "text/html": [
       "<div>\n",
       "<style scoped>\n",
       "    .dataframe tbody tr th:only-of-type {\n",
       "        vertical-align: middle;\n",
       "    }\n",
       "\n",
       "    .dataframe tbody tr th {\n",
       "        vertical-align: top;\n",
       "    }\n",
       "\n",
       "    .dataframe thead th {\n",
       "        text-align: right;\n",
       "    }\n",
       "</style>\n",
       "<table border=\"1\" class=\"dataframe\">\n",
       "  <thead>\n",
       "    <tr style=\"text-align: right;\">\n",
       "      <th></th>\n",
       "      <th>art_id</th>\n",
       "      <th>pre</th>\n",
       "    </tr>\n",
       "  </thead>\n",
       "  <tbody>\n",
       "    <tr>\n",
       "      <th>0</th>\n",
       "      <td>522453001</td>\n",
       "      <td>[554529002, 730683019, 620621002, 570489001, 6...</td>\n",
       "    </tr>\n",
       "    <tr>\n",
       "      <th>1</th>\n",
       "      <td>522453002</td>\n",
       "      <td>[645422003, 857762001, 845095001, 838901001, 7...</td>\n",
       "    </tr>\n",
       "    <tr>\n",
       "      <th>2</th>\n",
       "      <td>651690001</td>\n",
       "      <td>[727180003, 834059001, 698437004, 888229006, 4...</td>\n",
       "    </tr>\n",
       "    <tr>\n",
       "      <th>3</th>\n",
       "      <td>749994001</td>\n",
       "      <td>[734319002, 664405015, 685920001, 561758008, 5...</td>\n",
       "    </tr>\n",
       "    <tr>\n",
       "      <th>4</th>\n",
       "      <td>651690003</td>\n",
       "      <td>[828631002, 559971001, 895421001, 841473004, 6...</td>\n",
       "    </tr>\n",
       "  </tbody>\n",
       "</table>\n",
       "</div>"
      ],
      "text/plain": [
       "      art_id                                                pre\n",
       "0  522453001  [554529002, 730683019, 620621002, 570489001, 6...\n",
       "1  522453002  [645422003, 857762001, 845095001, 838901001, 7...\n",
       "2  651690001  [727180003, 834059001, 698437004, 888229006, 4...\n",
       "3  749994001  [734319002, 664405015, 685920001, 561758008, 5...\n",
       "4  651690003  [828631002, 559971001, 895421001, 841473004, 6..."
      ]
     },
     "execution_count": 11,
     "metadata": {},
     "output_type": "execute_result"
    }
   ],
   "source": [
    "items.head()"
   ]
  },
  {
   "cell_type": "code",
   "execution_count": 4,
   "id": "36a14ffb",
   "metadata": {},
   "outputs": [
    {
     "data": {
      "text/html": [
       "<div>\n",
       "<style scoped>\n",
       "    .dataframe tbody tr th:only-of-type {\n",
       "        vertical-align: middle;\n",
       "    }\n",
       "\n",
       "    .dataframe tbody tr th {\n",
       "        vertical-align: top;\n",
       "    }\n",
       "\n",
       "    .dataframe thead th {\n",
       "        text-align: right;\n",
       "    }\n",
       "</style>\n",
       "<table border=\"1\" class=\"dataframe\">\n",
       "  <thead>\n",
       "    <tr style=\"text-align: right;\">\n",
       "      <th></th>\n",
       "      <th>t_dat</th>\n",
       "      <th>customer_id</th>\n",
       "      <th>article_id</th>\n",
       "      <th>price</th>\n",
       "      <th>sales_channel_id</th>\n",
       "    </tr>\n",
       "  </thead>\n",
       "  <tbody>\n",
       "    <tr>\n",
       "      <th>0</th>\n",
       "      <td>2018-09-20</td>\n",
       "      <td>000058a12d5b43e67d225668fa1f8d618c13dc232df0ca...</td>\n",
       "      <td>663713001</td>\n",
       "      <td>0.050831</td>\n",
       "      <td>2</td>\n",
       "    </tr>\n",
       "    <tr>\n",
       "      <th>1</th>\n",
       "      <td>2018-09-20</td>\n",
       "      <td>000058a12d5b43e67d225668fa1f8d618c13dc232df0ca...</td>\n",
       "      <td>541518023</td>\n",
       "      <td>0.030492</td>\n",
       "      <td>2</td>\n",
       "    </tr>\n",
       "    <tr>\n",
       "      <th>2</th>\n",
       "      <td>2018-09-20</td>\n",
       "      <td>00007d2de826758b65a93dd24ce629ed66842531df6699...</td>\n",
       "      <td>505221004</td>\n",
       "      <td>0.015237</td>\n",
       "      <td>2</td>\n",
       "    </tr>\n",
       "    <tr>\n",
       "      <th>3</th>\n",
       "      <td>2018-09-20</td>\n",
       "      <td>00007d2de826758b65a93dd24ce629ed66842531df6699...</td>\n",
       "      <td>685687003</td>\n",
       "      <td>0.016932</td>\n",
       "      <td>2</td>\n",
       "    </tr>\n",
       "    <tr>\n",
       "      <th>4</th>\n",
       "      <td>2018-09-20</td>\n",
       "      <td>00007d2de826758b65a93dd24ce629ed66842531df6699...</td>\n",
       "      <td>685687004</td>\n",
       "      <td>0.016932</td>\n",
       "      <td>2</td>\n",
       "    </tr>\n",
       "  </tbody>\n",
       "</table>\n",
       "</div>"
      ],
      "text/plain": [
       "        t_dat                                        customer_id  article_id  \\\n",
       "0  2018-09-20  000058a12d5b43e67d225668fa1f8d618c13dc232df0ca...   663713001   \n",
       "1  2018-09-20  000058a12d5b43e67d225668fa1f8d618c13dc232df0ca...   541518023   \n",
       "2  2018-09-20  00007d2de826758b65a93dd24ce629ed66842531df6699...   505221004   \n",
       "3  2018-09-20  00007d2de826758b65a93dd24ce629ed66842531df6699...   685687003   \n",
       "4  2018-09-20  00007d2de826758b65a93dd24ce629ed66842531df6699...   685687004   \n",
       "\n",
       "      price  sales_channel_id  \n",
       "0  0.050831                 2  \n",
       "1  0.030492                 2  \n",
       "2  0.015237                 2  \n",
       "3  0.016932                 2  \n",
       "4  0.016932                 2  "
      ]
     },
     "execution_count": 4,
     "metadata": {},
     "output_type": "execute_result"
    }
   ],
   "source": [
    "t_t = pd.read_csv('./data/rawdata/transactions_train.csv')\n",
    "t_t.head()"
   ]
  },
  {
   "cell_type": "code",
   "execution_count": 14,
   "id": "d9d2831a",
   "metadata": {},
   "outputs": [],
   "source": [
    "d = pd.merge(t_t.loc[:,['customer_id','article_id']] , items , on='article_id')"
   ]
  },
  {
   "cell_type": "code",
   "execution_count": 20,
   "id": "cf36b2f0",
   "metadata": {},
   "outputs": [
    {
     "data": {
      "text/html": [
       "<div>\n",
       "<style scoped>\n",
       "    .dataframe tbody tr th:only-of-type {\n",
       "        vertical-align: middle;\n",
       "    }\n",
       "\n",
       "    .dataframe tbody tr th {\n",
       "        vertical-align: top;\n",
       "    }\n",
       "\n",
       "    .dataframe thead th {\n",
       "        text-align: right;\n",
       "    }\n",
       "</style>\n",
       "<table border=\"1\" class=\"dataframe\">\n",
       "  <thead>\n",
       "    <tr style=\"text-align: right;\">\n",
       "      <th></th>\n",
       "      <th>customer_id</th>\n",
       "      <th>article_id</th>\n",
       "      <th>pre</th>\n",
       "    </tr>\n",
       "  </thead>\n",
       "  <tbody>\n",
       "    <tr>\n",
       "      <th>0</th>\n",
       "      <td>000058a12d5b43e67d225668fa1f8d618c13dc232df0ca...</td>\n",
       "      <td>663713001</td>\n",
       "      <td>[662677002, 904423001, 649900001, 673552002, 8...</td>\n",
       "    </tr>\n",
       "    <tr>\n",
       "      <th>1</th>\n",
       "      <td>3681748607f3287d2c3a65e00bb5fb153de30e9becf158...</td>\n",
       "      <td>663713001</td>\n",
       "      <td>[662677002, 904423001, 649900001, 673552002, 8...</td>\n",
       "    </tr>\n",
       "    <tr>\n",
       "      <th>2</th>\n",
       "      <td>4ef5967ff17bf474bffebe5b16bd54878e1d4105f7b4ed...</td>\n",
       "      <td>663713001</td>\n",
       "      <td>[662677002, 904423001, 649900001, 673552002, 8...</td>\n",
       "    </tr>\n",
       "    <tr>\n",
       "      <th>3</th>\n",
       "      <td>6b7b10d2d47516c82a6f97332478dab748070f09693f09...</td>\n",
       "      <td>663713001</td>\n",
       "      <td>[662677002, 904423001, 649900001, 673552002, 8...</td>\n",
       "    </tr>\n",
       "    <tr>\n",
       "      <th>4</th>\n",
       "      <td>8ac137752bbe914aa4ae6ad007a9a0c5b67a1ab2b2d474...</td>\n",
       "      <td>663713001</td>\n",
       "      <td>[662677002, 904423001, 649900001, 673552002, 8...</td>\n",
       "    </tr>\n",
       "  </tbody>\n",
       "</table>\n",
       "</div>"
      ],
      "text/plain": [
       "                                         customer_id  article_id  \\\n",
       "0  000058a12d5b43e67d225668fa1f8d618c13dc232df0ca...   663713001   \n",
       "1  3681748607f3287d2c3a65e00bb5fb153de30e9becf158...   663713001   \n",
       "2  4ef5967ff17bf474bffebe5b16bd54878e1d4105f7b4ed...   663713001   \n",
       "3  6b7b10d2d47516c82a6f97332478dab748070f09693f09...   663713001   \n",
       "4  8ac137752bbe914aa4ae6ad007a9a0c5b67a1ab2b2d474...   663713001   \n",
       "\n",
       "                                                 pre  \n",
       "0  [662677002, 904423001, 649900001, 673552002, 8...  \n",
       "1  [662677002, 904423001, 649900001, 673552002, 8...  \n",
       "2  [662677002, 904423001, 649900001, 673552002, 8...  \n",
       "3  [662677002, 904423001, 649900001, 673552002, 8...  \n",
       "4  [662677002, 904423001, 649900001, 673552002, 8...  "
      ]
     },
     "execution_count": 20,
     "metadata": {},
     "output_type": "execute_result"
    }
   ],
   "source": [
    "d.head()"
   ]
  },
  {
   "cell_type": "code",
   "execution_count": 23,
   "id": "bcfec860",
   "metadata": {},
   "outputs": [],
   "source": [
    "sub = d.loc[:,['customer_id','pre']]\n",
    "\n",
    "sub.to_csv('./output/sub_物品聚类.csv')"
   ]
  }
 ],
 "metadata": {
  "kernelspec": {
   "display_name": "tjxt",
   "language": "python",
   "name": "python3"
  },
  "language_info": {
   "codemirror_mode": {
    "name": "ipython",
    "version": 3
   },
   "file_extension": ".py",
   "mimetype": "text/x-python",
   "name": "python",
   "nbconvert_exporter": "python",
   "pygments_lexer": "ipython3",
   "version": "3.8.16"
  }
 },
 "nbformat": 4,
 "nbformat_minor": 5
}
